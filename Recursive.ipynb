{
 "cells": [
  {
   "cell_type": "code",
   "execution_count": 3,
   "metadata": {
    "collapsed": false
   },
   "outputs": [
    {
     "data": {
      "text/plain": [
       "-1"
      ]
     },
     "execution_count": 3,
     "metadata": {},
     "output_type": "execute_result"
    }
   ],
   "source": [
    "# Recursive for Max and Min\n",
    "\n",
    "def max(num_list):\n",
    "    if len(num_list) ==1:\n",
    "        return num_list[0]\n",
    "    else:\n",
    "        m = max(num_list[1:])\n",
    "        return m if m > num_list[0] else num_list[0]\n",
    "    \n",
    "def min(num_list):\n",
    "    if len(num_list) ==1:\n",
    "        return num_list[0]\n",
    "    else:\n",
    "        m = min(num_list[1:])\n",
    "        return m if m < num_list[0] else num_list[0]\n",
    "\n",
    "max([192,2,3334,39,0,2,343,999999])\n",
    "min([192,2,3334,39,-1,2,343,999999])\n"
   ]
  },
  {
   "cell_type": "code",
   "execution_count": 2,
   "metadata": {
    "collapsed": false
   },
   "outputs": [],
   "source": [
    "\n",
    "'''\n",
    "Checking if a string is a palindrome\n",
    "'''\n",
    "def reverse(s):\n",
    "    if s == \"\":\n",
    "        return s\n",
    "    else:\n",
    "        return reverse(s[1:]) + s[0]\n",
    "\n",
    "def is_palindrome(s):\n",
    "    #print(reverse(s))\n",
    "    return s == reverse(s)\n",
    "\n",
    "# If your code is right, the following asserts would succeed.\n",
    "assert(is_palindrome('radar') is True)\n",
    "assert(is_palindrome('civic') is True)\n",
    "assert(is_palindrome('honda') is False)"
   ]
  },
  {
   "cell_type": "code",
   "execution_count": 1,
   "metadata": {
    "collapsed": false
   },
   "outputs": [
    {
     "name": "stdout",
     "output_type": "stream",
     "text": [
      "<reversed object at 0x1044d0a10>\n",
      "<reversed object at 0x1044d0a50>\n",
      "<reversed object at 0x1044d0a90>\n"
     ]
    }
   ],
   "source": [
    "def is_palindrome_1(s):\n",
    "    print(reversed(s))\n",
    "    return s == \"\".join(reversed(s))\n",
    "\n",
    "# If your code is right, the following asserts would succeed.\n",
    "assert(is_palindrome_1('radar') is True)\n",
    "assert(is_palindrome_1('civic') is True)\n",
    "assert(is_palindrome_1('honda') is False)\n"
   ]
  }
 ],
 "metadata": {
  "kernelspec": {
   "display_name": "Python [conda root]",
   "language": "python",
   "name": "conda-root-py"
  },
  "language_info": {
   "codemirror_mode": {
    "name": "ipython",
    "version": 2
   },
   "file_extension": ".py",
   "mimetype": "text/x-python",
   "name": "python",
   "nbconvert_exporter": "python",
   "pygments_lexer": "ipython2",
   "version": "2.7.12"
  }
 },
 "nbformat": 4,
 "nbformat_minor": 1
}
