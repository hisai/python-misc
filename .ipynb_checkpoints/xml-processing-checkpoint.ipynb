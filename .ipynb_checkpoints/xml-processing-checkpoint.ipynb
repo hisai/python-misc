{
 "cells": [
  {
   "cell_type": "markdown",
   "metadata": {},
   "source": [
    "# Parsing XML documents"
   ]
  },
  {
   "cell_type": "markdown",
   "metadata": {},
   "source": [
    "## Example XML"
   ]
  },
  {
   "cell_type": "markdown",
   "metadata": {},
   "source": [
    "<?xml version=\"1.0\" encoding=\"UTF-8\"?>\n",
    "<opml version=\"1.0\">\n",
    "<head>\n",
    "\t<title>My Podcasts</title>\n",
    "\t<dateCreated>Sun, 07 Mar 2010 15:53:26 GMT</dateCreated>\n",
    "\t<dateModified>Sun, 07 Mar 2010 15:53:26 GMT</dateModified>\n",
    "</head>\n",
    "<body>\n",
    "  <outline text=\"Science and Tech\">\n",
    "    <outline text=\"APM: Future Tense\" type=\"rss\" \n",
    "             xmlUrl=\"http://www.publicradio.org/columns/futuretense/podcast.xml\" \n",
    "             htmlUrl=\"http://www.publicradio.org/columns/futuretense/\" />\n",
    "\t<outline text=\"Engines Of Our Ingenuity Podcast\" type=\"rss\" \n",
    "             xmlUrl=\"http://www.npr.org/rss/podcast.php?id=510030\" \n",
    "             htmlUrl=\"http://www.uh.edu/engines/engines.htm\" />\n",
    "\t<outline text=\"Science &#38; the City\" type=\"rss\" \n",
    "             xmlUrl=\"http://www.nyas.org/Podcasts/Atom.axd\" \n",
    "             htmlUrl=\"http://www.nyas.org/WhatWeDo/SciencetheCity.aspx\" />\n",
    "  </outline>\n",
    "  <outline text=\"Books and Fiction\">\n",
    "\t<outline text=\"Podiobooker\" type=\"rss\" \n",
    "             xmlUrl=\"http://feeds.feedburner.com/podiobooks\" \n",
    "             htmlUrl=\"http://www.podiobooks.com/blog\" />\n",
    "\t<outline text=\"The Drabblecast\" type=\"rss\" \n",
    "             xmlUrl=\"http://web.me.com/normsherman/Site/Podcast/rss.xml\" \n",
    "             htmlUrl=\"http://web.me.com/normsherman/Site/Podcast/Podcast.html\" />\n",
    "\t<outline text=\"tor.com / category / tordotstories\" type=\"rss\" \n",
    "             xmlUrl=\"http://www.tor.com/rss/category/TorDotStories\" \n",
    "             htmlUrl=\"http://www.tor.com/\" />\n",
    "  </outline>\n",
    "  <outline text=\"Computers and Programming\">\n",
    "\t<outline text=\"MacBreak Weekly\" type=\"rss\" \n",
    "             xmlUrl=\"http://leo.am/podcasts/mbw\" \n",
    "             htmlUrl=\"http://twit.tv/mbw\" />\n",
    "\t<outline text=\"FLOSS Weekly\" type=\"rss\" \n",
    "             xmlUrl=\"http://leo.am/podcasts/floss\" \n",
    "             htmlUrl=\"http://twit.tv\" />\n",
    "\t<outline text=\"Core Intuition\" type=\"rss\" \n",
    "             xmlUrl=\"http://www.coreint.org/podcast.xml\" \n",
    "             htmlUrl=\"http://www.coreint.org/\" />\n",
    "  </outline>\n",
    "  <outline text=\"Python\">\n",
    "    <outline text=\"PyCon Podcast\" type=\"rss\" \n",
    "             xmlUrl=\"http://advocacy.python.org/podcasts/pycon.rss\" \n",
    "             htmlUrl=\"http://advocacy.python.org/podcasts/\" />\n",
    "\t<outline text=\"A Little Bit of Python\" type=\"rss\" \n",
    "             xmlUrl=\"http://advocacy.python.org/podcasts/littlebit.rss\" \n",
    "             htmlUrl=\"http://advocacy.python.org/podcasts/\" />\n",
    "\t<outline text=\"Django Dose Everything Feed\" type=\"rss\" \n",
    "             xmlUrl=\"http://djangodose.com/everything/feed/\" />\n",
    "  </outline>\n",
    "  <outline text=\"Miscelaneous\">\n",
    "\t<outline text=\"dhellmann's CastSampler Feed\" type=\"rss\" \n",
    "             xmlUrl=\"http://www.castsampler.com/cast/feed/rss/dhellmann/\" \n",
    "             htmlUrl=\"http://www.castsampler.com/users/dhellmann/\" />\n",
    "  </outline>\n",
    "</body>\n",
    "</opml>"
   ]
  },
  {
   "cell_type": "code",
   "execution_count": 7,
   "metadata": {
    "collapsed": false
   },
   "outputs": [
    {
     "name": "stdout",
     "output_type": "stream",
     "text": [
      "\n",
      "Science and Tech\n",
      "APM: Future Tense :: http://www.publicradio.org/columns/futuretense/podcast.xml\n",
      "Engines Of Our Ingenuity Podcast :: http://www.npr.org/rss/podcast.php?id=510030\n",
      "Science & the City :: http://www.nyas.org/Podcasts/Atom.axd\n",
      "\n",
      "Books and Fiction\n",
      "Podiobooker :: http://feeds.feedburner.com/podiobooks\n",
      "The Drabblecast :: http://web.me.com/normsherman/Site/Podcast/rss.xml\n",
      "tor.com / category / tordotstories :: http://www.tor.com/rss/category/TorDotStories\n",
      "\n",
      "Computers and Programming\n",
      "MacBreak Weekly :: http://leo.am/podcasts/mbw\n",
      "FLOSS Weekly :: http://leo.am/podcasts/floss\n",
      "Core Intuition :: http://www.coreint.org/podcast.xml\n",
      "\n",
      "Python\n",
      "PyCon Podcast :: http://advocacy.python.org/podcasts/pycon.rss\n",
      "A Little Bit of Python :: http://advocacy.python.org/podcasts/littlebit.rss\n",
      "Django Dose Everything Feed :: http://djangodose.com/everything/feed/\n",
      "\n",
      "Miscelaneous\n",
      "dhellmann's CastSampler Feed :: http://www.castsampler.com/cast/feed/rss/dhellmann/\n"
     ]
    }
   ],
   "source": [
    "from xml.etree import ElementTree\n",
    "\n",
    "with open('podcasts.opml', 'rt') as f:\n",
    "    tree = ElementTree.parse(f)\n",
    "\n",
    "# iterate the outline node and print its attributes\n",
    "for node in tree.iter('outline'):\n",
    "    name = node.attrib.get('text')\n",
    "    url = node.attrib.get('xmlUrl')\n",
    "    if name and url:\n",
    "        print(\"%s :: %s\" %(name, url))\n",
    "    else:\n",
    "        print(\"\\n%s\" %name)"
   ]
  },
  {
   "cell_type": "markdown",
   "metadata": {},
   "source": [
    "# Finding Nodes in a document"
   ]
  },
  {
   "cell_type": "code",
   "execution_count": 20,
   "metadata": {
    "collapsed": false
   },
   "outputs": [
    {
     "name": "stdout",
     "output_type": "stream",
     "text": [
      "http://www.publicradio.org/columns/futuretense/podcast.xml\n",
      "http://www.npr.org/rss/podcast.php?id=510030\n",
      "http://www.nyas.org/Podcasts/Atom.axd\n",
      "http://feeds.feedburner.com/podiobooks\n",
      "http://web.me.com/normsherman/Site/Podcast/rss.xml\n",
      "http://www.tor.com/rss/category/TorDotStories\n",
      "http://leo.am/podcasts/mbw\n",
      "http://leo.am/podcasts/floss\n",
      "http://www.coreint.org/podcast.xml\n",
      "http://advocacy.python.org/podcasts/pycon.rss\n",
      "http://advocacy.python.org/podcasts/littlebit.rss\n",
      "http://djangodose.com/everything/feed/\n",
      "http://www.castsampler.com/cast/feed/rss/dhellmann/\n"
     ]
    }
   ],
   "source": [
    "for node in tree.findall(\".//outline/outline\"):\n",
    "    url = node.attrib.get(\"xmlUrl\")\n",
    "    print(url)"
   ]
  },
  {
   "cell_type": "markdown",
   "metadata": {},
   "source": [
    "# Parse Node Attributes"
   ]
  },
  {
   "cell_type": "markdown",
   "metadata": {},
   "source": [
    "data.xml\n",
    "\n",
    "<?xml version=\"1.0\" encoding=\"UTF-8\"?>\n",
    "<top>\n",
    "  <child>This child contains text.</child>\n",
    "  <child_with_tail>This child has regular text.</child_with_tail>And \"tail\" text.\n",
    "  <with_attributes name=\"value\" foo=\"bar\" />\n",
    "  <entity_expansion attribute=\"This &#38; That\">That &#38; This</entity_expansion>\n",
    "</top>"
   ]
  },
  {
   "cell_type": "code",
   "execution_count": 39,
   "metadata": {
    "collapsed": false
   },
   "outputs": [
    {
     "name": "stdout",
     "output_type": "stream",
     "text": [
      "with_attributes\n",
      "[('foo', 'bar'), ('name', 'value')]\n",
      "foo  => bar\n",
      "name => value\n",
      "\n",
      "Print 'name' attribute\n",
      "name => value\n",
      "\n",
      "Print 'foo' attribute\n",
      "foo => bar\n"
     ]
    }
   ],
   "source": [
    "from xml.etree import ElementTree\n",
    "\n",
    "with open(\"data.xml\", 'rt') as f:\n",
    "    tree = ElementTree.parse(f)\n",
    "\n",
    "node = tree.find(\"./with_attributes\")\n",
    "print(node.tag)\n",
    "print(sorted(node.attrib.items()))\n",
    "\n",
    "for name, value in sorted(node.attrib.items()):\n",
    "    print(\"%-4s => %s\" %(name, value))\n",
    "    \n",
    "# another way printing certain attribute values\n",
    "for key in [\"name\", \"foo\"]:\n",
    "    print(\"\\nPrint '%s' attribute\" %key)\n",
    "    print(\"%s => %s\" %(key, node.attrib[key]))\n",
    "    "
   ]
  },
  {
   "cell_type": "code",
   "execution_count": 34,
   "metadata": {
    "collapsed": false,
    "scrolled": true
   },
   "outputs": [
    {
     "name": "stdout",
     "output_type": "stream",
     "text": [
      "child\n",
      "This child contains text.\n",
      "\n",
      "  \n",
      "child_with_tail\n",
      "This child has regular text.\n",
      "And \"tail\" text.\n",
      "  \n"
     ]
    }
   ],
   "source": [
    "for path in [\"./child\", \"./child_with_tail\"]:\n",
    "    node = tree.find(path)\n",
    "    print(node.tag)\n",
    "    print(node.text)\n",
    "    print(node.tail)"
   ]
  },
  {
   "cell_type": "code",
   "execution_count": 49,
   "metadata": {
    "collapsed": false
   },
   "outputs": [
    {
     "name": "stdout",
     "output_type": "stream",
     "text": [
      "4300110224\n",
      "4300110288\n",
      "4300110480\n",
      "4300110288\n",
      "4300110480\n"
     ]
    }
   ],
   "source": [
    "from xml.etree import ElementTree\n",
    "\n",
    "xml_content=ElementTree.XML('''\n",
    "<top>\n",
    "  <parent id=\"A\">\n",
    "    <child id=\"4300110224\" num=\"0\"/>\n",
    "    <child id=\"4300110288\" num=\"1\"/>\n",
    "    <child id=\"4300110480\" num=\"2\"/>\n",
    "  </parent>\n",
    "  <parent id=\"B\">\n",
    "    <!-- <child id=\"4300110224\" num=\"0\"/> -->\n",
    "    <child id=\"4300110288\" num=\"1\"/>\n",
    "    <child id=\"4300110480\" num=\"2\"/>\n",
    "  </parent>\n",
    "</top>\n",
    "''')\n",
    "\n",
    "for node in xml_content.findall(\".//child\"):\n",
    "    print(node.attrib[\"id\"])"
   ]
  }
 ],
 "metadata": {
  "anaconda-cloud": {},
  "kernelspec": {
   "display_name": "Python [conda env:data-science]",
   "language": "python",
   "name": "conda-env-data-science-py"
  },
  "language_info": {
   "codemirror_mode": {
    "name": "ipython",
    "version": 3
   },
   "file_extension": ".py",
   "mimetype": "text/x-python",
   "name": "python",
   "nbconvert_exporter": "python",
   "pygments_lexer": "ipython3",
   "version": "3.6.1"
  }
 },
 "nbformat": 4,
 "nbformat_minor": 1
}
